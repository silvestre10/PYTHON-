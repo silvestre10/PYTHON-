{
  "nbformat": 4,
  "nbformat_minor": 0,
  "metadata": {
    "colab": {
      "provenance": [],
      "authorship_tag": "ABX9TyPXh6+dcpCuaZKjJ+Y8S30b",
      "include_colab_link": true
    },
    "kernelspec": {
      "name": "python3",
      "display_name": "Python 3"
    },
    "language_info": {
      "name": "python"
    }
  },
  "cells": [
    {
      "cell_type": "markdown",
      "metadata": {
        "id": "view-in-github",
        "colab_type": "text"
      },
      "source": [
        "<a href=\"https://colab.research.google.com/github/silvestre10/PYTHON-/blob/main/Aula_PYTHON.ipynb\" target=\"_parent\"><img src=\"https://colab.research.google.com/assets/colab-badge.svg\" alt=\"Open In Colab\"/></a>"
      ]
    },
    {
      "cell_type": "markdown",
      "source": [
        "**#Aula 1**  ⚡ 7 💚"
      ],
      "metadata": {
        "id": "8HtDMoHnnwns"
      }
    },
    {
      "cell_type": "code",
      "source": [
        " ano = \"IX\"\n",
        " print(f\"{ano} competição de programação da Start\")"
      ],
      "metadata": {
        "colab": {
          "base_uri": "https://localhost:8080/"
        },
        "id": "kILB1VTUpr4f",
        "outputId": "9c63a87f-e024-4e7c-8c42-4c1c267f415a"
      },
      "execution_count": null,
      "outputs": [
        {
          "output_type": "stream",
          "name": "stdout",
          "text": [
            "IX competição de programação da Start\n"
          ]
        }
      ]
    },
    {
      "cell_type": "markdown",
      "source": [
        "**Alura 2 ** ❤ ㊗ 👽"
      ],
      "metadata": {
        "id": "b4asZQ15o3sb"
      }
    },
    {
      "cell_type": "markdown",
      "source": [],
      "metadata": {
        "id": "ow7UgLVQq-hW"
      }
    },
    {
      "cell_type": "code",
      "source": [
        "livro_ficcao = 8\n",
        "livro_n_ficcao = 10\n",
        "livro_infantil = 6\n",
        "pontos_rodrigo = livro_ficcao + livro_n_ficcao + livro_infantil\n",
        "pontos_ana = 2 * livro_ficcao + 5 * livro_infantil\n",
        "pontos_totais = pontos_rodrigo + pontos_ana\n",
        "print(f\"Os pontos totais do Rodrigo são {pontos_rodrigo}\")\n",
        "print(f\"Os pontos totais do ana  são {pontos_ana}\")\n",
        "print(f\"Os pontos totais do Rodrigo e da ana são {pontos_totais}\")"
      ],
      "metadata": {
        "id": "WpvAjDCnq44f",
        "outputId": "d58db2b3-cf1e-416c-888c-554987436704",
        "colab": {
          "base_uri": "https://localhost:8080/"
        }
      },
      "execution_count": 4,
      "outputs": [
        {
          "output_type": "stream",
          "name": "stdout",
          "text": [
            "Os pontos totais do Rodrigo são 24\n",
            "Os pontos totais do ana  são 46\n",
            "Os pontos totais do Rodrigo e da ana são 70\n"
          ]
        }
      ]
    },
    {
      "cell_type": "markdown",
      "source": [
        "livro_ficcao = 8\n",
        "livro_n_ficcao = 10\n",
        "livro_infantil = 6\n",
        "pontos_rodrigo = livro_ficcao + livro_n_ficcao + livro_infantil\n",
        "pontos_ana = * livro_ficcao + 5 * livro_infantil\n",
        "pontos_totais = pontos rodrigo + pontos_ana\n",
        "print(f\"Os pontos totais do Rodrigo são {pontos_rodrigo}\")\n",
        "print(f\"Os pontos totais do ana  são {pontos_ana}\")\n",
        "print(f\"Os pontos totais do Rodrigo e da ana são {pontos_totais}\")"
      ],
      "metadata": {
        "id": "iWrx8cuXpJit"
      }
    }
  ]
}