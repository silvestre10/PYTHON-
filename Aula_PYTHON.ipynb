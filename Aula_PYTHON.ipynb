{
  "nbformat": 4,
  "nbformat_minor": 0,
  "metadata": {
    "colab": {
      "provenance": [],
      "authorship_tag": "ABX9TyNXBfZqhGxPzQjlJ5WQ9yow",
      "include_colab_link": true
    },
    "kernelspec": {
      "name": "python3",
      "display_name": "Python 3"
    },
    "language_info": {
      "name": "python"
    }
  },
  "cells": [
    {
      "cell_type": "markdown",
      "metadata": {
        "id": "view-in-github",
        "colab_type": "text"
      },
      "source": [
        "<a href=\"https://colab.research.google.com/github/silvestre10/PYTHON-/blob/main/Aula_PYTHON.ipynb\" target=\"_parent\"><img src=\"https://colab.research.google.com/assets/colab-badge.svg\" alt=\"Open In Colab\"/></a>"
      ]
    },
    {
      "cell_type": "markdown",
      "source": [
        "#**Aula 1**  ⚡ 7 💚"
      ],
      "metadata": {
        "id": "8HtDMoHnnwns"
      }
    },
    {
      "cell_type": "code",
      "source": [
        " ano = \"IX\"\n",
        " print(f\"{ano} competição de programação da Start\")"
      ],
      "metadata": {
        "colab": {
          "base_uri": "https://localhost:8080/"
        },
        "id": "kILB1VTUpr4f",
        "outputId": "9c63a87f-e024-4e7c-8c42-4c1c267f415a"
      },
      "execution_count": null,
      "outputs": [
        {
          "output_type": "stream",
          "name": "stdout",
          "text": [
            "IX competição de programação da Start\n"
          ]
        }
      ]
    },
    {
      "cell_type": "markdown",
      "source": [
        "#**Alura 2** ❤ ㊗ 👽"
      ],
      "metadata": {
        "id": "b4asZQ15o3sb"
      }
    },
    {
      "cell_type": "markdown",
      "source": [],
      "metadata": {
        "id": "ow7UgLVQq-hW"
      }
    },
    {
      "cell_type": "code",
      "source": [
        "livro_ficcao = 8\n",
        "livro_n_ficcao = 10\n",
        "livro_infantil = 6\n",
        "pontos_rodrigo = livro_ficcao + livro_n_ficcao + livro_infantil\n",
        "pontos_ana = 2 * livro_ficcao + 5 * livro_infantil\n",
        "pontos_totais = pontos_rodrigo + pontos_ana\n",
        "print(f\"Os pontos totais do Rodrigo são {pontos_rodrigo}\")\n",
        "print(f\"Os pontos totais do ana  são {pontos_ana}\")\n",
        "print(f\"Os pontos totais do Rodrigo e da ana são {pontos_totais}\")"
      ],
      "metadata": {
        "colab": {
          "base_uri": "https://localhost:8080/"
        },
        "id": "WpvAjDCnq44f",
        "outputId": "d58db2b3-cf1e-416c-888c-554987436704"
      },
      "execution_count": null,
      "outputs": [
        {
          "output_type": "stream",
          "name": "stdout",
          "text": [
            "Os pontos totais do Rodrigo são 24\n",
            "Os pontos totais do ana  são 46\n",
            "Os pontos totais do Rodrigo e da ana são 70\n"
          ]
        }
      ]
    },
    {
      "cell_type": "markdown",
      "source": [
        "#**Aula 3 tabuada** 🌃 ⚫ ⛓"
      ],
      "metadata": {
        "id": "LzacInLKtJyq"
      }
    },
    {
      "cell_type": "code",
      "source": [
        "def tabuada(numero):\n",
        "    for contador in range(1, 11):  # Gera números de 1 a 10\n",
        "        print(f\"{numero} x {contador} = {numero * contador}\")\n",
        "numero = int(input(\"Digite um número para ver sua tabuada: \"))\n",
        "tabuada(numero)"
      ],
      "metadata": {
        "colab": {
          "base_uri": "https://localhost:8080/"
        },
        "id": "VjQ3fgVutaGu",
        "outputId": "4ccfe9a9-eca7-415b-f16e-142d4057d73a"
      },
      "execution_count": null,
      "outputs": [
        {
          "output_type": "stream",
          "name": "stdout",
          "text": [
            "Digite um número para ver sua tabuada: 7\n",
            "7 x 1 = 7\n",
            "7 x 2 = 14\n",
            "7 x 3 = 21\n",
            "7 x 4 = 28\n",
            "7 x 5 = 35\n",
            "7 x 6 = 42\n",
            "7 x 7 = 49\n",
            "7 x 8 = 56\n",
            "7 x 9 = 63\n",
            "7 x 10 = 70\n"
          ]
        }
      ]
    },
    {
      "cell_type": "markdown",
      "source": [
        "#**Aula 4 IMC** ⛱ 📍 🌄"
      ],
      "metadata": {
        "id": "5jJKJ7pfu-c0"
      }
    },
    {
      "cell_type": "code",
      "source": [
        "peso = float(input(\"Digite seu peso (em kg): \"))\n",
        "altura = float(input(\"Digite sua altura (em metros): \"))\n",
        "imc = peso / (altura ** 2)"
      ],
      "metadata": {
        "id": "bkkhdK85vuHB"
      },
      "execution_count": null,
      "outputs": []
    },
    {
      "cell_type": "markdown",
      "source": [
        "livro_ficcao = 8\n",
        "livro_n_ficcao = 10\n",
        "livro_infantil = 6\n",
        "pontos_rodrigo = livro_ficcao + livro_n_ficcao + livro_infantil\n",
        "pontos_ana = * livro_ficcao + 5 * livro_infantil\n",
        "pontos_totais = pontos rodrigo + pontos_ana\n",
        "print(f\"Os pontos totais do Rodrigo são {pontos_rodrigo}\")\n",
        "print(f\"Os pontos totais do ana  são {pontos_ana}\")\n",
        "print(f\"Os pontos totais do Rodrigo e da ana são {pontos_totais}\")"
      ],
      "metadata": {
        "id": "iWrx8cuXpJit"
      }
    },
    {
      "cell_type": "markdown",
      "source": [
        "#**Aula 5** ⚽ 🎱 ⚾"
      ],
      "metadata": {
        "id": "71KA8s6SkLDU"
      }
    },
    {
      "cell_type": "code",
      "source": [
        "print(\"Olá,sou seu assistente virtual, em que posso ajudar?\")\n",
        "nome = input(\"Digite seu nome:\")\n",
        "resposta = input(f\"Olá {nome}, qual tema você deseja conversar? Python, Javascript, ou matemática: \").lower()\n",
        "if resposta == \"python\":\n",
        "  print(f\"Ótimo {nome}, vamos falar sobre Python. \\n A linguagem Python é poderosa e simples, permitindo transformar ideias em soluções de forma rápida e eficiente. \")\n",
        "  if resposta == \"python\":\n",
        "  print(f\"Ótimo {nome}, vamos falar sobre Javascript. \\n O JavaScript dá vida às páginas da web, tornando a internet mais interativa, dinâmica e divertida. \")\n",
        "  if resposta == \"python\":\n",
        "  print(f\"Ótimo {nome}, vamos falar sobre matemática. \\n A matemática é a linguagem com que o universo foi escrito, unindo lógica, beleza e infinitas possibilidades. \")\n",
        "  else:\n",
        "      print(f\"Que pena {nome}, não sei falar sobre esse assunto.\")"
      ],
      "metadata": {
        "colab": {
          "base_uri": "https://localhost:8080/"
        },
        "id": "_AkJidEXln3m",
        "outputId": "2350820a-80c3-4d68-c6de-1e50951d5cb0"
      },
      "execution_count": null,
      "outputs": [
        {
          "output_type": "stream",
          "name": "stdout",
          "text": [
            "Olá,sou seu assistente virtual, em que posso ajudar?\n"
          ]
        }
      ]
    }
  ]
}